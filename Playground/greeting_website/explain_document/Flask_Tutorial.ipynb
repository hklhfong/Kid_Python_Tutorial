{
 "cells": [
  {
   "cell_type": "markdown",
   "id": "26dc4d45",
   "metadata": {},
   "source": [
    "## Introduction to Flask"
   ]
  },
  {
   "cell_type": "markdown",
   "id": "2c2ab649",
   "metadata": {},
   "source": [
    "Flask is a lightweight WSGI web application framework. It's easy to get started with and can be used to build all sorts of web applications."
   ]
  },
  {
   "cell_type": "code",
   "execution_count": null,
   "id": "f513fcbc",
   "metadata": {},
   "outputs": [],
   "source": [
    "# Install Flask\n",
    "!pip install Flask"
   ]
  },
  {
   "cell_type": "markdown",
   "id": "ece9b8c3",
   "metadata": {},
   "source": [
    "## Creating a Simple Flask Application"
   ]
  },
  {
   "cell_type": "code",
   "execution_count": null,
   "id": "2c543107",
   "metadata": {},
   "outputs": [],
   "source": [
    "from flask import Flask\n",
    "app = Flask(__name__)\n",
    "\n",
    "@app.route('/')\n",
    "def home():\n",
    "    return 'Hello, Flask!'\n",
    "        \n",
    "# Note: Running Flask inside a Jupyter notebook might not work as expected. Instead, save this script in a file and run it using a Python environment."
   ]
  },
  {
   "cell_type": "markdown",
   "id": "af456a26",
   "metadata": {},
   "source": [
    "## Running the Flask Application"
   ]
  },
  {
   "cell_type": "markdown",
   "id": "8616e3d5",
   "metadata": {},
   "source": [
    "To run your Flask application:\n",
    "\n",
    "1. Save the above code in a Python file, e.g., `app.py`.\n",
    "2. Open your command line interface and navigate to the directory containing your `app.py`.\n",
    "3. Run the command: `flask run`\n",
    "4. Open a browser and go to `http://127.0.0.1:5000/` to see your application."
   ]
  },
  {
   "cell_type": "markdown",
   "id": "7b79608f",
   "metadata": {},
   "source": [
    "## Adding a Dynamic Route"
   ]
  },
  {
   "cell_type": "code",
   "execution_count": null,
   "id": "6cb877bd",
   "metadata": {},
   "outputs": [],
   "source": [
    "@app.route('/greet/<name>')\n",
    "def greet(name):\n",
    "    return f'Hello, {name}!'\n",
    "    \n",
    "# This route will greet the user by name. You can visit this by going to 'http://127.0.0.1:5000/greet/yourname'"
   ]
  },
  {
   "cell_type": "markdown",
   "id": "6c684c35",
   "metadata": {},
   "source": [
    "## Debug Mode"
   ]
  },
  {
   "cell_type": "code",
   "execution_count": null,
   "id": "812330a8",
   "metadata": {},
   "outputs": [],
   "source": [
    "if __name__ == '__main__':\n",
    "    app.run(debug=True)\n",
    "    \n",
    "# Running the app with `debug=True` allows for automatic reloading and will provide detailed error pages if something goes wrong."
   ]
  },
  {
   "cell_type": "markdown",
   "id": "339218b2",
   "metadata": {},
   "source": [
    "## Conclusion"
   ]
  },
  {
   "cell_type": "markdown",
   "id": "bcda2239",
   "metadata": {},
   "source": [
    "This brief tutorial covers the basics of setting up and running a Flask application. Flask's simplicity makes it a great choice for beginners looking to dive into web development."
   ]
  },
  {
   "cell_type": "markdown",
   "id": "109c9809",
   "metadata": {},
   "source": [
    "## Further Resources"
   ]
  },
  {
   "cell_type": "markdown",
   "id": "f98e7194",
   "metadata": {},
   "source": [
    "- [Flask Documentation](https://flask.palletsprojects.com/)\n",
    "- Online tutorials and courses"
   ]
  }
 ],
 "metadata": {},
 "nbformat": 4,
 "nbformat_minor": 5
}
